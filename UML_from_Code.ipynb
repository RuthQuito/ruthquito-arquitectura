{
  "nbformat": 4,
  "nbformat_minor": 0,
  "metadata": {
    "colab": {
      "name": "UML from Code",
      "provenance": [],
      "include_colab_link": true
    },
    "kernelspec": {
      "name": "python3",
      "display_name": "Python 3"
    },
    "language_info": {
      "name": "python"
    }
  },
  "cells": [
    {
      "cell_type": "markdown",
      "metadata": {
        "id": "view-in-github",
        "colab_type": "text"
      },
      "source": [
        "<a href=\"https://colab.research.google.com/github/RuthQuito/ruthquito-arquitectura/blob/gh-pages/UML_from_Code.ipynb\" target=\"_parent\"><img src=\"https://colab.research.google.com/assets/colab-badge.svg\" alt=\"Open In Colab\"/></a>"
      ]
    },
    {
      "cell_type": "code",
      "execution_count": 4,
      "metadata": {
        "colab": {
          "base_uri": "https://localhost:8080/"
        },
        "id": "fKTdCzzkZ8oD",
        "outputId": "0e54474c-a2c5-47f3-e3a4-dbebdb990cfe"
      },
      "outputs": [
        {
          "output_type": "stream",
          "name": "stdout",
          "text": [
            "Requirement already satisfied: plantuml in /usr/local/lib/python3.7/dist-packages (0.3.0)\n",
            "Requirement already satisfied: httplib2 in /usr/local/lib/python3.7/dist-packages (from plantuml) (0.17.4)\n"
          ]
        }
      ],
      "source": [
        "pip install plantuml "
      ]
    },
    {
      "cell_type": "code",
      "source": [
        "f= open(\"/content/usecasediagram.txt\",\"w+\")\n",
        "f.write(f\"\"\":Cliente: --> (Use)\n",
        "\"Administrador principal\" as Admin\n",
        "\"Usa la aplicación\" as (Use)\n",
        "Admin --> (Administra la apliación)\"\"\")\n",
        "\n",
        "f.close()\n",
        "!python -m plantuml usecasediagram.txt"
      ],
      "metadata": {
        "colab": {
          "base_uri": "https://localhost:8080/"
        },
        "id": "Mn0oYRdmaG6K",
        "outputId": "21b2f9fb-cb43-42bd-eb8c-3ee911632268"
      },
      "execution_count": 10,
      "outputs": [
        {
          "output_type": "stream",
          "name": "stdout",
          "text": [
            "[{'filename': 'usecasediagram.txt', 'gen_success': True}]\n"
          ]
        }
      ]
    },
    {
      "cell_type": "code",
      "source": [
        "f= open(\"/content/classdiagram.txt\",\"w+\")\n",
        "f.write(f\"\"\"Astronauta <|-- ArrayList\n",
        "Astronauta : equals()\n",
        "ArrayList : Astronauta[] elementData\n",
        "ArrayList : size()\n",
        "@enduml\"\"\")\n",
        "f.close()\n",
        "!python -m plantuml classdiagram.txt"
      ],
      "metadata": {
        "colab": {
          "base_uri": "https://localhost:8080/"
        },
        "id": "AFg11TV5a7_K",
        "outputId": "bbb4c28e-de30-4d42-d20c-dfc9739ca75b"
      },
      "execution_count": 9,
      "outputs": [
        {
          "output_type": "stream",
          "name": "stdout",
          "text": [
            "[{'filename': 'classdiagram.txt', 'gen_success': True}]\n"
          ]
        }
      ]
    }
  ]
}